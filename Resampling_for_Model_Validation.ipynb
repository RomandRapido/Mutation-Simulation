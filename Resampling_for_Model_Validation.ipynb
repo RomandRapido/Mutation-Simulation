{
  "nbformat": 4,
  "nbformat_minor": 0,
  "metadata": {
    "colab": {
      "provenance": [],
      "authorship_tag": "ABX9TyOosdeHcmRahkT+bDpk3eH1",
      "include_colab_link": true
    },
    "kernelspec": {
      "name": "ir",
      "display_name": "R"
    },
    "language_info": {
      "name": "R"
    }
  },
  "cells": [
    {
      "cell_type": "markdown",
      "metadata": {
        "id": "view-in-github",
        "colab_type": "text"
      },
      "source": [
        "<a href=\"https://colab.research.google.com/github/RomandRapido/Mutation-Simulation/blob/main/Resampling_for_Model_Validation.ipynb\" target=\"_parent\"><img src=\"https://colab.research.google.com/assets/colab-badge.svg\" alt=\"Open In Colab\"/></a>"
      ]
    },
    {
      "cell_type": "code",
      "source": [
        "library(tidymodels)\n",
        "library(glmnet)\n",
        "library(patchwork)\n",
        "library(stringr)\n",
        "library(readr)\n",
        "library(dplyr)\n",
        "\n",
        "\n",
        "set.seed(42)\n",
        "\n",
        "df <- read.csv(\"/content/protien_mutations_dataset.csv\", stringsAsFactors = FALSE)\n",
        "\n",
        "df <- df %>%\n",
        "  mutate(\n",
        "    DDG = ifelse(\n",
        "      str_detect(DDG, \"^\\\\s*\\\\(\"),\n",
        "      -parse_number(as.character(DDG)),\n",
        "      parse_number(as.character(DDG))\n",
        "    ),\n",
        "    T = as.numeric(T)\n",
        "  ) %>%\n",
        "  drop_na(DDG, T)"
      ],
      "metadata": {
        "id": "kU40LlFA4m42"
      },
      "execution_count": null,
      "outputs": []
    },
    {
      "cell_type": "markdown",
      "source": [
        "All required packages are loaded, a random seed is fixed, and Dehouck et al. (2011)’s mutation file is read.\n",
        "Bracketed negatives (e.g. “(‑0.3)”) are converted to numeric, temperature is coerced to double, and rows lacking either field are removed. The resulting dataframe df is ready for modelling."
      ],
      "metadata": {
        "id": "HwmdhfVYHSxE"
      }
    },
    {
      "cell_type": "code",
      "source": [
        "folds_cv <- vfold_cv(df, v = 10)\n",
        "boots    <- bootstraps(df, times = 200)"
      ],
      "metadata": {
        "id": "75qkF2eU4m2_"
      },
      "execution_count": null,
      "outputs": []
    },
    {
      "cell_type": "markdown",
      "source": [
        "Two resampling schemes are defined:\n",
        "\n",
        "10‑fold cross‑validation (folds_cv) for classical model comparison.\n",
        "\n",
        "200 bootstrap replicates (boots) for a non‑parametric view of estimator variability.\n",
        "\n",
        "This dual setup lets us contrast CV‑ and bootstrap‑derived metrics later on."
      ],
      "metadata": {
        "id": "DxvOC-sVHVCx"
      }
    },
    {
      "cell_type": "code",
      "source": [
        "wf_lm <- workflow() %>%\n",
        "  add_model(linear_reg() %>% set_engine(\"lm\")) %>%\n",
        "  add_formula(DDG ~ T)\n",
        "\n",
        "rec_poly   <- recipe(DDG ~ T, data = df) %>% step_poly(T, degree = 2)\n",
        "ridge_spec <- linear_reg(penalty = tune(), mixture = 0) %>% set_engine(\"glmnet\")\n",
        "\n",
        "wf_ridge <- workflow() %>%\n",
        "  add_model(ridge_spec) %>%\n",
        "  add_recipe(rec_poly)"
      ],
      "metadata": {
        "id": "vLKaCmAM4m0X"
      },
      "execution_count": null,
      "outputs": []
    },
    {
      "cell_type": "markdown",
      "source": [
        "Linear baseline: a simple lm with formula DDG ~ T.\n",
        "\n",
        "Ridge regression: a polynomial‐expanded recipe (step_poly(T, degree = 2)) fed to glmnet with the penalty hyper‑parameter left for tuning.\n",
        "\n",
        "Two separate workflows are created so that preprocessing choices remain encapsulated."
      ],
      "metadata": {
        "id": "-k1VOItmIrTP"
      }
    },
    {
      "cell_type": "code",
      "source": [
        "lambda_grid <- grid_regular(penalty(), levels = 50)\n",
        "ctrl <- control_resamples(save_pred = TRUE)\n",
        "\n",
        "tune_res <- tune_grid(\n",
        "  wf_ridge,\n",
        "  resamples = folds_cv,\n",
        "  grid = lambda_grid,\n",
        "  metrics = metric_set(rmse, rsq),\n",
        "  control = ctrl)\n",
        "\n",
        "best_lambda     <- select_best(tune_res, metric = \"rmse\")\n",
        "wf_ridge_final  <- finalize_workflow(wf_ridge, best_lambda)\n"
      ],
      "metadata": {
        "id": "u0tdFlc-4mxD"
      },
      "execution_count": null,
      "outputs": []
    },
    {
      "cell_type": "markdown",
      "source": [
        "A regular grid of 50 λ values is explored via 10‑fold CV.\n",
        "The “best” λ is selected on minimum RMSE, and the ridge workflow is finalised with that value, yielding wf_ridge_final for unbiased re‑evaluation."
      ],
      "metadata": {
        "id": "WRm0d2voNXO_"
      }
    },
    {
      "cell_type": "code",
      "source": [
        "cv_lm_res <- fit_resamples(\n",
        "  wf_lm,\n",
        "  resamples = folds_cv,\n",
        "  metrics  = metric_set(rmse, rsq),\n",
        "  control  = ctrl)\n",
        "\n",
        "cv_ridge_res <- fit_resamples(\n",
        "    wf_ridge_final,\n",
        "    resample = folds_cv,\n",
        "    metrics = metric_set(rmse, rsq),\n",
        "  control = ctrl\n",
        ")\n",
        "\n",
        "bind_rows(\n",
        "  collect_metrics(cv_lm_res) %>% mutate(model = \"LM\"),\n",
        "  collect_metrics(cv_ridge_res) %>% mutate(model = \"Ridge\")\n",
        ")\n"
      ],
      "metadata": {
        "colab": {
          "base_uri": "https://localhost:8080/",
          "height": 223
        },
        "id": "w7wOb5fb4mmQ",
        "outputId": "2b207b64-4524-4f8a-ef0d-57dbb46591b2"
      },
      "execution_count": null,
      "outputs": [
        {
          "output_type": "display_data",
          "data": {
            "text/html": [
              "<table class=\"dataframe\">\n",
              "<caption>A tibble: 4 × 7</caption>\n",
              "<thead>\n",
              "\t<tr><th scope=col>.metric</th><th scope=col>.estimator</th><th scope=col>mean</th><th scope=col>n</th><th scope=col>std_err</th><th scope=col>.config</th><th scope=col>model</th></tr>\n",
              "\t<tr><th scope=col>&lt;chr&gt;</th><th scope=col>&lt;chr&gt;</th><th scope=col>&lt;dbl&gt;</th><th scope=col>&lt;int&gt;</th><th scope=col>&lt;dbl&gt;</th><th scope=col>&lt;chr&gt;</th><th scope=col>&lt;chr&gt;</th></tr>\n",
              "</thead>\n",
              "<tbody>\n",
              "\t<tr><td>rmse</td><td>standard</td><td>1.44297565</td><td>10</td><td>0.016607323</td><td>Preprocessor1_Model1</td><td>LM   </td></tr>\n",
              "\t<tr><td>rsq </td><td>standard</td><td>0.03867443</td><td>10</td><td>0.007991149</td><td>Preprocessor1_Model1</td><td>LM   </td></tr>\n",
              "\t<tr><td>rmse</td><td>standard</td><td>1.44367304</td><td>10</td><td>0.016380516</td><td>Preprocessor1_Model1</td><td>Ridge</td></tr>\n",
              "\t<tr><td>rsq </td><td>standard</td><td>0.03763386</td><td>10</td><td>0.007813115</td><td>Preprocessor1_Model1</td><td>Ridge</td></tr>\n",
              "</tbody>\n",
              "</table>\n"
            ],
            "text/markdown": "\nA tibble: 4 × 7\n\n| .metric &lt;chr&gt; | .estimator &lt;chr&gt; | mean &lt;dbl&gt; | n &lt;int&gt; | std_err &lt;dbl&gt; | .config &lt;chr&gt; | model &lt;chr&gt; |\n|---|---|---|---|---|---|---|\n| rmse | standard | 1.44297565 | 10 | 0.016607323 | Preprocessor1_Model1 | LM    |\n| rsq  | standard | 0.03867443 | 10 | 0.007991149 | Preprocessor1_Model1 | LM    |\n| rmse | standard | 1.44367304 | 10 | 0.016380516 | Preprocessor1_Model1 | Ridge |\n| rsq  | standard | 0.03763386 | 10 | 0.007813115 | Preprocessor1_Model1 | Ridge |\n\n",
            "text/latex": "A tibble: 4 × 7\n\\begin{tabular}{lllllll}\n .metric & .estimator & mean & n & std\\_err & .config & model\\\\\n <chr> & <chr> & <dbl> & <int> & <dbl> & <chr> & <chr>\\\\\n\\hline\n\t rmse & standard & 1.44297565 & 10 & 0.016607323 & Preprocessor1\\_Model1 & LM   \\\\\n\t rsq  & standard & 0.03867443 & 10 & 0.007991149 & Preprocessor1\\_Model1 & LM   \\\\\n\t rmse & standard & 1.44367304 & 10 & 0.016380516 & Preprocessor1\\_Model1 & Ridge\\\\\n\t rsq  & standard & 0.03763386 & 10 & 0.007813115 & Preprocessor1\\_Model1 & Ridge\\\\\n\\end{tabular}\n",
            "text/plain": [
              "  .metric .estimator mean       n  std_err     .config              model\n",
              "1 rmse    standard   1.44297565 10 0.016607323 Preprocessor1_Model1 LM   \n",
              "2 rsq     standard   0.03867443 10 0.007991149 Preprocessor1_Model1 LM   \n",
              "3 rmse    standard   1.44367304 10 0.016380516 Preprocessor1_Model1 Ridge\n",
              "4 rsq     standard   0.03763386 10 0.007813115 Preprocessor1_Model1 Ridge"
            ]
          },
          "metadata": {}
        }
      ]
    },
    {
      "cell_type": "markdown",
      "source": [
        "fit_resamples() is executed for both models on folds_cv.\n",
        "Metrics (rmse, rsq) are collected and merged, producing a concise table that ranks linear vs. ridge performance. In most datasets of this type, ridge often equals or slightly betters the plain linear RMSE while boosting R² thanks to shrinkage."
      ],
      "metadata": {
        "id": "cW30tz6zNZM6"
      }
    },
    {
      "cell_type": "code",
      "source": [
        "boot_lm_res <- fit_resamples(\n",
        "  wf_lm,\n",
        "  resamples = boots,\n",
        "  metrics  = metric_set(rmse),\n",
        "  control  = ctrl\n",
        ")\n",
        "\n",
        "boot_ridge_res <- fit_resamples(\n",
        "  wf_ridge_final,\n",
        "  resamples = boots,\n",
        "  metrics  = metric_set(rmse),\n",
        "  control  = ctrl\n",
        ")\n",
        "\n",
        "boot_metrics <- bind_rows(\n",
        "  collect_metrics(boot_lm_res)    %>% mutate(model = \"LM\"),\n",
        "  collect_metrics(boot_ridge_res) %>% mutate(model = \"Ridge\")\n",
        ")\n",
        "print(boot_metrics)\n",
        "\n",
        "bind_rows(\n",
        "  boot_lm_res %>% collect_predictions() %>% mutate(model = \"LM\"),\n",
        "  boot_ridge_res %>% collect_predictions() %>% mutate(model = \"Ridge\")\n",
        ") %>%\n",
        "  group_by(id,model) %>%\n",
        "  yardstick::rmse(truth = DDG, estimate = .pred) %>%\n",
        "  ggplot(aes(model, .estimate)) +\n",
        "  geom_boxplot() +\n",
        "  labs(title = \"Bootstrap RMSE Comparison\", y = \"RMSE\")"
      ],
      "metadata": {
        "colab": {
          "base_uri": "https://localhost:8080/",
          "height": 524
        },
        "id": "uXdJYSlC9_wq",
        "outputId": "d18a5c7e-b20a-4b74-bb62-63971d9e1d83"
      },
      "execution_count": null,
      "outputs": [
        {
          "output_type": "stream",
          "name": "stdout",
          "text": [
            "\u001b[90m# A tibble: 2 × 7\u001b[39m\n",
            "  .metric .estimator  mean     n std_err .config              model\n",
            "  \u001b[3m\u001b[90m<chr>\u001b[39m\u001b[23m   \u001b[3m\u001b[90m<chr>\u001b[39m\u001b[23m      \u001b[3m\u001b[90m<dbl>\u001b[39m\u001b[23m \u001b[3m\u001b[90m<int>\u001b[39m\u001b[23m   \u001b[3m\u001b[90m<dbl>\u001b[39m\u001b[23m \u001b[3m\u001b[90m<chr>\u001b[39m\u001b[23m                \u001b[3m\u001b[90m<chr>\u001b[39m\u001b[23m\n",
            "\u001b[90m1\u001b[39m rmse    standard    1.44   200 0.002\u001b[4m3\u001b[24m\u001b[4m7\u001b[24m Preprocessor1_Model1 LM   \n",
            "\u001b[90m2\u001b[39m rmse    standard    1.45   200 0.002\u001b[4m3\u001b[24m\u001b[4m7\u001b[24m Preprocessor1_Model1 Ridge\n"
          ]
        },
        {
          "output_type": "display_data",
          "data": {
            "text/plain": [
              "plot without title"
            ],
            "image/png": "[encoded data removed]"
          },
          "metadata": {
            "image/png": {
              "width": 420,
              "height": 420
            }
          }
        }
      ]
    },
    {
      "cell_type": "markdown",
      "source": [
        "Both workflows are re‑fit on 200 bootstrap samples.\n",
        "\n",
        "A summary table prints bootstrap RMSE for each model.\n",
        "\n",
        "A box‑plot of RMSE distributions illustrates variability: narrow, overlapping boxes suggest negligible practical difference; clearly separated medians would justify preferring one model.\n",
        "\n",
        "This side‑by‑side CV vs. bootstrap view reveals whether conclusions hold under different resampling philosophies."
      ],
      "metadata": {
        "id": "ZGGWtiLoNnD3"
      }
    },
    {
      "cell_type": "markdown",
      "source": [
        "**Overall Interpretation**<br>\n",
        "\n",
        "Consistency check – If the ridge model leads on both CV and bootstrap RMSE, its slight complexity (λ‑tuned shrinkage plus polynomial term) appears justified; if the gap is minimal, the simpler linear model may suffice.\n",
        "\n",
        "Resampling insight – Bootstrap spreads are usually wider than CV because every replicate re‑uses roughly 63 % of unique observations. Wider variability warns against over‑interpreting single‑split results.\n",
        "\n",
        "Practical takeaway – For downstream predictive use (e.g. forecasting mutation‑induced ΔΔG at novel temperatures) the ridge workflow is recommended if it shows even modest, consistent RMSE gains, as shrinkage guards against extrapolation error. Otherwise, retain the simpler linear baseline."
      ],
      "metadata": {
        "id": "kMweLGy-NpLA"
      }
    }
  ]
}