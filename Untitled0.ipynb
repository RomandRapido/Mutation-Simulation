{
  "nbformat": 4,
  "nbformat_minor": 0,
  "metadata": {
    "colab": {
      "provenance": [],
      "include_colab_link": true
    },
    "kernelspec": {
      "name": "ir",
      "display_name": "R"
    },
    "language_info": {
      "name": "R"
    }
  },
  "cells": [
    {
      "cell_type": "markdown",
      "metadata": {
        "id": "view-in-github",
        "colab_type": "text"
      },
      "source": [
        "<a href=\"https://colab.research.google.com/github/RomandRapido/SA2-Statistical-Computing/blob/main/Untitled0.ipynb\" target=\"_parent\"><img src=\"https://colab.research.google.com/assets/colab-badge.svg\" alt=\"Open In Colab\"/></a>"
      ]
    },
    {
      "cell_type": "code",
      "execution_count": null,
      "metadata": {
        "colab": {
          "base_uri": "https://localhost:8080/"
        },
        "id": "8jBu7cG1mFGO",
        "outputId": "90e11448-1aeb-47e3-e9f8-e6ce24831863"
      },
      "outputs": [
        {
          "output_type": "stream",
          "name": "stdout",
          "text": [
            "Sample"
          ]
        }
      ],
      "source": [
        "cat(\"Sample\")"
      ]
    },
    {
      "cell_type": "code",
      "source": [
        "# prompt: create a dummy data, and try the permutation test to determine whether the generated dummy dataset is reliable as the sample represents with\n",
        "\n",
        "# Sample\n",
        "# create dummy data\n",
        "set.seed(123) # for reproducibility\n",
        "dummy_data <- rnorm(100) # 100 random numbers from a normal distribution\n",
        "\n",
        "# Hypothesis: The sample mean is significantly different from 0.\n",
        "# We can use a one-sample t-test for this, which is related to permutation tests.\n",
        "\n",
        "# Perform a t-test\n",
        "t_test_result <- t.test(dummy_data)\n",
        "\n",
        "# Print the result of the t-test\n",
        "print(t_test_result)\n",
        "\n",
        "# A permutation test approach (conceptual):\n",
        "# 1. Calculate the observed mean of the dummy data.\n",
        "# 2. Repeatedly shuffle the data and calculate the mean of the shuffled data.\n",
        "# 3. Compare the observed mean to the distribution of means from the shuffled data.\n",
        "#    If the observed mean is extreme compared to the shuffled means,\n",
        "#    we have evidence against the null hypothesis (mean is 0).\n",
        "\n",
        "# For a formal permutation test for a one-sample mean, we would shuffle\n",
        "# the signs of the data points.\n",
        "n_permutations <- 1000\n",
        "observed_mean <- mean(dummy_data)\n",
        "permuted_means <- numeric(n_permutations)\n",
        "\n",
        "for (i in 1:n_permutations) {\n",
        "  # Shuffle the signs\n",
        "  permuted_data <- dummy_data * sample(c(-1, 1), length(dummy_data), replace = TRUE)\n",
        "  permuted_means[i] <- mean(permuted_data)\n",
        "}\n",
        "\n",
        "# Calculate the p-value\n",
        "p_value <- mean(abs(permuted_means) >= abs(observed_mean))\n",
        "\n",
        "cat(\"\\nPermutation Test Result (approximate p-value):\\n\")\n",
        "p_value\n",
        "\n",
        "# Interpretation: A small p-value (e.g., < 0.05) suggests that the observed mean\n",
        "# is unlikely to occur by random chance under the null hypothesis,\n",
        "# indicating that the dummy dataset's mean is significantly different from 0.\n",
        "# This would suggest the \"sample\" (our dummy data) is \"reliable\" in the sense\n",
        "# that its mean is a statistically significant value, not just random fluctuation around 0.\n",
        "# The t-test and permutation test results should be similar for this simple case."
      ],
      "metadata": {
        "id": "P1CXIDWxokfy"
      },
      "execution_count": null,
      "outputs": []
    },
    {
      "cell_type": "code",
      "source": [
        "cat(\"bago to\")"
      ],
      "metadata": {
        "colab": {
          "base_uri": "https://localhost:8080/"
        },
        "id": "n9Seac2Druhh",
        "outputId": "b5e2bbce-2a44-4eb3-92d8-936b7a1f1576"
      },
      "execution_count": 2,
      "outputs": [
        {
          "output_type": "stream",
          "name": "stdout",
          "text": [
            "bago to"
          ]
        }
      ]
    }
  ]
}